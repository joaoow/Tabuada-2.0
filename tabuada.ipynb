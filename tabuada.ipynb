{
  "nbformat": 4,
  "nbformat_minor": 0,
  "metadata": {
    "colab": {
      "provenance": []
    },
    "kernelspec": {
      "name": "python3",
      "display_name": "Python 3"
    },
    "language_info": {
      "name": "python"
    }
  },
  "cells": [
    {
      "cell_type": "code",
      "source": [
        "tabuada = int(input('Digite um número para exibir a tabuada: '))\n",
        "print('Tabuda do número {}'.format(tabuada))\n",
        "for valor in range(1,11,1):\n",
        "  print(str(tabuada) + \" x \" + str(valor) + \" = \" + str((tabuada*valor)))\n"
      ],
      "metadata": {
        "colab": {
          "base_uri": "https://localhost:8080/"
        },
        "id": "9sE8IfCJiK6W",
        "outputId": "ca074e1e-f324-45c9-9b80-9599c330ccbe"
      },
      "execution_count": 2,
      "outputs": [
        {
          "output_type": "stream",
          "name": "stdout",
          "text": [
            "Digite um número para exibir a tabuada: 5\n",
            "Tabuda do número 5\n",
            "5 x 1 = 5\n",
            "5 x 2 = 10\n",
            "5 x 3 = 15\n",
            "5 x 4 = 20\n",
            "5 x 5 = 25\n",
            "5 x 6 = 30\n",
            "5 x 7 = 35\n",
            "5 x 8 = 40\n",
            "5 x 9 = 45\n",
            "5 x 10 = 50\n"
          ]
        }
      ]
    },
    {
      "cell_type": "code",
      "source": [],
      "metadata": {
        "id": "4buXURDGigmj"
      },
      "execution_count": null,
      "outputs": []
    }
  ]
}